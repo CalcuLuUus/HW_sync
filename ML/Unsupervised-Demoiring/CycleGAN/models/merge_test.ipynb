{
 "cells": [
  {
   "cell_type": "code",
   "execution_count": 1,
   "metadata": {},
   "outputs": [],
   "source": [
    "import os\n",
    "import torch"
   ]
  },
  {
   "cell_type": "code",
   "execution_count": 2,
   "metadata": {},
   "outputs": [
    {
     "name": "stdout",
     "output_type": "stream",
     "text": [
      "['e:\\\\桌面\\\\research\\\\5-Demoire\\\\CVPR23-Unsupervised-Demoiring\\\\CUT\\\\models', 'e:\\\\anaconda\\\\python38.zip', 'e:\\\\anaconda\\\\DLLs', 'e:\\\\anaconda\\\\lib', 'e:\\\\anaconda', '', 'C:\\\\Users\\\\Administrator\\\\AppData\\\\Roaming\\\\Python\\\\Python38\\\\site-packages', 'e:\\\\anaconda\\\\lib\\\\site-packages', 'e:\\\\anaconda\\\\lib\\\\site-packages\\\\win32', 'e:\\\\anaconda\\\\lib\\\\site-packages\\\\win32\\\\lib', 'e:\\\\anaconda\\\\lib\\\\site-packages\\\\Pythonwin', 'e:\\\\anaconda\\\\lib\\\\site-packages\\\\IPython\\\\extensions', 'C:\\\\Users\\\\Administrator\\\\.ipython', '../../']\n"
     ]
    }
   ],
   "source": [
    "import sys\n",
    "sys.path.append(\"../../\")\n",
    "print(sys.path)"
   ]
  },
  {
   "cell_type": "code",
   "execution_count": 3,
   "metadata": {},
   "outputs": [],
   "source": [
    "import mpe.models.mpe"
   ]
  },
  {
   "cell_type": "code",
   "execution_count": 4,
   "metadata": {},
   "outputs": [],
   "source": [
    "mpe_model = mpe.models.mpe.MoirePatternExtractor()"
   ]
  },
  {
   "cell_type": "code",
   "execution_count": 6,
   "metadata": {},
   "outputs": [
    {
     "name": "stdout",
     "output_type": "stream",
     "text": [
      "torch.Size([1, 1, 256, 256])\n"
     ]
    }
   ],
   "source": [
    "x = torch.randn(1, 3, 256, 256)\n",
    "\n",
    "output = mpe_model(x)\n",
    "\n",
    "print(output[-1].shape)"
   ]
  },
  {
   "cell_type": "code",
   "execution_count": 8,
   "metadata": {},
   "outputs": [
    {
     "name": "stdout",
     "output_type": "stream",
     "text": [
      "torch.Size([1, 4, 256, 256])\n"
     ]
    }
   ],
   "source": [
    "x = torch.ones(1, 3, 5, 5)\n",
    "\n",
    "y = torch.cat((output[-1], x), dim=1)\n",
    "\n",
    "print(y.shape)\n"
   ]
  },
  {
   "cell_type": "code",
   "execution_count": 12,
   "metadata": {},
   "outputs": [
    {
     "data": {
      "text/plain": [
       "tensor([[[241,  87,  20, 174, 142],\n",
       "         [ 50, 197, 171,  30, 209],\n",
       "         [ 88,  47, 188, 146,  99],\n",
       "         [ 21, 226, 115,  61, 102],\n",
       "         [246, 222,  67,  83,  83]],\n",
       "\n",
       "        [[ 11, 194, 204, 203,   5],\n",
       "         [220,  97, 154,   1, 204],\n",
       "         [142, 233, 196, 104, 252],\n",
       "         [ 14, 135, 112,  99, 212],\n",
       "         [141,  56, 166,  53,  32]],\n",
       "\n",
       "        [[100, 217,  15, 142, 144],\n",
       "         [ 98,  24,  30,  43, 146],\n",
       "         [141,  14,  52,  30, 131],\n",
       "         [196, 118, 241, 188, 141],\n",
       "         [198, 123,  21, 137, 127]]])"
      ]
     },
     "execution_count": 12,
     "metadata": {},
     "output_type": "execute_result"
    }
   ],
   "source": [
    "x = torch.randint(0, 255, (3, 5, 5))\n",
    "\n",
    "x"
   ]
  },
  {
   "cell_type": "code",
   "execution_count": 15,
   "metadata": {},
   "outputs": [
    {
     "ename": "AttributeError",
     "evalue": "'Tensor' object has no attribute 'astype'",
     "output_type": "error",
     "traceback": [
      "\u001b[1;31m---------------------------------------------------------------------------\u001b[0m",
      "\u001b[1;31mAttributeError\u001b[0m                            Traceback (most recent call last)",
      "\u001b[1;32m<ipython-input-15-5c605fc31ded>\u001b[0m in \u001b[0;36m<module>\u001b[1;34m\u001b[0m\n\u001b[0;32m      2\u001b[0m \u001b[1;32mimport\u001b[0m \u001b[0mnumpy\u001b[0m \u001b[1;32mas\u001b[0m \u001b[0mnp\u001b[0m\u001b[1;33m\u001b[0m\u001b[1;33m\u001b[0m\u001b[0m\n\u001b[0;32m      3\u001b[0m \u001b[0mshow\u001b[0m \u001b[1;33m=\u001b[0m \u001b[0mToPILImage\u001b[0m\u001b[1;33m(\u001b[0m\u001b[1;33m)\u001b[0m \u001b[1;31m# 可以把Tensor转成Image，方便可视化\u001b[0m\u001b[1;33m\u001b[0m\u001b[1;33m\u001b[0m\u001b[0m\n\u001b[1;32m----> 4\u001b[1;33m \u001b[0mshow\u001b[0m\u001b[1;33m(\u001b[0m\u001b[0mx\u001b[0m\u001b[1;33m.\u001b[0m\u001b[0mastype\u001b[0m\u001b[1;33m(\u001b[0m\u001b[0mnp\u001b[0m\u001b[1;33m.\u001b[0m\u001b[0muint8\u001b[0m\u001b[1;33m)\u001b[0m\u001b[1;33m)\u001b[0m\u001b[1;33m.\u001b[0m\u001b[0mshow\u001b[0m\u001b[1;33m(\u001b[0m\u001b[1;33m)\u001b[0m\u001b[1;33m\u001b[0m\u001b[1;33m\u001b[0m\u001b[0m\n\u001b[0m",
      "\u001b[1;31mAttributeError\u001b[0m: 'Tensor' object has no attribute 'astype'"
     ]
    }
   ],
   "source": [
    "from torchvision.transforms import ToPILImage\n",
    "import numpy as np\n",
    "show = ToPILImage() # 可以把Tensor转成Image，方便可视化\n",
    "show(x.astype(np.uint8)).show()"
   ]
  },
  {
   "cell_type": "code",
   "execution_count": 43,
   "metadata": {},
   "outputs": [
    {
     "name": "stdout",
     "output_type": "stream",
     "text": [
      "tensor([[[[-1.7164,  0.2209, -0.5220, -0.5235, -0.2165],\n",
      "          [-0.4035,  1.1561,  0.4023,  1.3810,  2.1439],\n",
      "          [-1.1463, -1.9165,  1.0400, -0.4716, -0.0455],\n",
      "          [ 1.3412, -1.6083,  0.6483,  1.5215, -0.4276],\n",
      "          [-0.9770, -1.2680,  1.1326,  0.0307, -0.6091]],\n",
      "\n",
      "         [[ 0.9337, -0.4363, -0.2713,  0.3522,  0.4709],\n",
      "          [-0.4542,  1.9955, -0.0365,  0.7978,  0.5330],\n",
      "          [ 0.2796, -0.6294, -0.8248, -0.1620, -1.6498],\n",
      "          [ 0.5295,  1.4607,  0.8027,  1.2168,  0.5164],\n",
      "          [ 1.6423, -2.0708, -1.2309,  0.1753, -0.8248]],\n",
      "\n",
      "         [[ 0.7959, -0.6109,  0.6438, -1.0378, -0.3830],\n",
      "          [ 2.5225,  0.7214, -1.0091, -0.7975,  0.5101],\n",
      "          [ 0.8515,  0.9048,  0.5969,  0.2549, -0.0861],\n",
      "          [ 0.0301,  0.0036,  0.6028,  0.1016, -0.1868],\n",
      "          [ 0.9195, -0.7050,  0.4674,  0.3071, -0.8257]]],\n",
      "\n",
      "\n",
      "        [[[-0.1668,  0.2372, -0.5288, -0.2710,  0.1870],\n",
      "          [ 0.8424,  0.0124, -0.7416,  1.2273,  0.7973],\n",
      "          [ 2.0202,  0.2898, -0.2790,  1.3600, -0.9802],\n",
      "          [-1.6322,  0.2359, -0.8135,  0.4871, -1.4778],\n",
      "          [-0.2705,  0.9933, -0.1612, -0.3676,  0.1172]],\n",
      "\n",
      "         [[-0.7059, -0.2422, -0.6255,  0.2886,  0.6641],\n",
      "          [ 0.1231, -0.3028, -0.1385,  1.7999,  1.1600],\n",
      "          [ 0.7045, -0.5174,  0.5797,  1.7866,  0.0461],\n",
      "          [ 0.7686,  0.2286, -0.7949, -1.3007,  0.5033],\n",
      "          [-0.3548,  0.0340, -0.2023,  0.2489, -0.6566]],\n",
      "\n",
      "         [[ 0.2848,  0.5021,  0.2779, -1.4696, -0.1266],\n",
      "          [-0.1804, -1.4012, -1.4796, -0.6862,  0.2255],\n",
      "          [ 0.0955,  0.7373, -0.6069, -0.1079, -1.1398],\n",
      "          [-0.0791,  0.7190,  1.9605, -0.8505,  1.4666],\n",
      "          [ 0.9536,  0.0880, -0.6069,  0.1365, -1.0725]]]])\n",
      "tensor(107.5726)\n"
     ]
    }
   ],
   "source": [
    "x = torch.randn(2, 3, 5, 5)\n",
    "print(x)\n",
    "print(torch.sum(torch.abs(x)))"
   ]
  },
  {
   "cell_type": "code",
   "execution_count": 44,
   "metadata": {},
   "outputs": [
    {
     "data": {
      "text/plain": [
       "tensor([59.0433, 48.5293])"
      ]
     },
     "execution_count": 44,
     "metadata": {},
     "output_type": "execute_result"
    }
   ],
   "source": [
    "L1 = torch.norm(x, p=1, dim=(1, 2, 3))\n",
    "L1"
   ]
  },
  {
   "cell_type": "code",
   "execution_count": 46,
   "metadata": {},
   "outputs": [
    {
     "name": "stdout",
     "output_type": "stream",
     "text": [
      "tensor([[[[2.3072]],\n",
      "\n",
      "         [[0.4184]],\n",
      "\n",
      "         [[0.3853]]]])\n",
      "tensor([[[[12.2817]],\n",
      "\n",
      "         [[ 0.0733]],\n",
      "\n",
      "         [[ 0.0572]]]])\n"
     ]
    }
   ],
   "source": [
    "x = torch.randn(1, 3, 1, 1)\n",
    "print(x)\n",
    "print(x**3)"
   ]
  },
  {
   "cell_type": "code",
   "execution_count": 50,
   "metadata": {},
   "outputs": [
    {
     "ename": "ImportError",
     "evalue": "attempted relative import with no known parent package",
     "output_type": "error",
     "traceback": [
      "\u001b[1;31m---------------------------------------------------------------------------\u001b[0m",
      "\u001b[1;31mImportError\u001b[0m                               Traceback (most recent call last)",
      "\u001b[1;32m<ipython-input-50-8367e664cb18>\u001b[0m in \u001b[0;36m<module>\u001b[1;34m\u001b[0m\n\u001b[1;32m----> 1\u001b[1;33m \u001b[1;32mimport\u001b[0m \u001b[0mcut_model\u001b[0m\u001b[1;33m\u001b[0m\u001b[1;33m\u001b[0m\u001b[0m\n\u001b[0m",
      "\u001b[1;32me:\\桌面\\research\\5-Demoire\\CVPR23-Unsupervised-Demoiring\\CUT\\models\\cut_model.py\u001b[0m in \u001b[0;36m<module>\u001b[1;34m\u001b[0m\n\u001b[0;32m      3\u001b[0m \u001b[1;32mfrom\u001b[0m \u001b[0mmpe\u001b[0m\u001b[1;33m.\u001b[0m\u001b[0mmodels\u001b[0m\u001b[1;33m.\u001b[0m\u001b[0mmpe\u001b[0m \u001b[1;32mimport\u001b[0m \u001b[0mMoirePatternExtractor\u001b[0m\u001b[1;33m,\u001b[0m \u001b[0mMoirePatternPrior\u001b[0m\u001b[1;33m\u001b[0m\u001b[1;33m\u001b[0m\u001b[0m\n\u001b[0;32m      4\u001b[0m \u001b[1;32mimport\u001b[0m \u001b[0mtorch\u001b[0m\u001b[1;33m\u001b[0m\u001b[1;33m\u001b[0m\u001b[0m\n\u001b[1;32m----> 5\u001b[1;33m \u001b[1;32mfrom\u001b[0m \u001b[1;33m.\u001b[0m\u001b[0mbase_model\u001b[0m \u001b[1;32mimport\u001b[0m \u001b[0mBaseModel\u001b[0m\u001b[1;33m\u001b[0m\u001b[1;33m\u001b[0m\u001b[0m\n\u001b[0m\u001b[0;32m      6\u001b[0m \u001b[1;32mfrom\u001b[0m \u001b[1;33m.\u001b[0m \u001b[1;32mimport\u001b[0m \u001b[0mnetworks\u001b[0m\u001b[1;33m\u001b[0m\u001b[1;33m\u001b[0m\u001b[0m\n\u001b[0;32m      7\u001b[0m \u001b[1;32mfrom\u001b[0m \u001b[1;33m.\u001b[0m\u001b[0mpatchnce\u001b[0m \u001b[1;32mimport\u001b[0m \u001b[0mPatchNCELoss\u001b[0m\u001b[1;33m\u001b[0m\u001b[1;33m\u001b[0m\u001b[0m\n",
      "\u001b[1;31mImportError\u001b[0m: attempted relative import with no known parent package"
     ]
    }
   ],
   "source": [
    "import cut_model"
   ]
  },
  {
   "cell_type": "code",
   "execution_count": 53,
   "metadata": {},
   "outputs": [
    {
     "data": {
      "text/plain": [
       "['e:\\\\桌面\\\\research\\\\5-Demoire\\\\CVPR23-Unsupervised-Demoiring\\\\CUT\\\\models',\n",
       " 'e:\\\\anaconda\\\\python38.zip',\n",
       " 'e:\\\\anaconda\\\\DLLs',\n",
       " 'e:\\\\anaconda\\\\lib',\n",
       " 'e:\\\\anaconda',\n",
       " '',\n",
       " 'C:\\\\Users\\\\Administrator\\\\AppData\\\\Roaming\\\\Python\\\\Python38\\\\site-packages',\n",
       " 'e:\\\\anaconda\\\\lib\\\\site-packages',\n",
       " 'e:\\\\anaconda\\\\lib\\\\site-packages\\\\win32',\n",
       " 'e:\\\\anaconda\\\\lib\\\\site-packages\\\\win32\\\\lib',\n",
       " 'e:\\\\anaconda\\\\lib\\\\site-packages\\\\Pythonwin',\n",
       " 'e:\\\\anaconda\\\\lib\\\\site-packages\\\\IPython\\\\extensions',\n",
       " 'C:\\\\Users\\\\Administrator\\\\.ipython',\n",
       " '../../',\n",
       " '.',\n",
       " '.',\n",
       " '.']"
      ]
     },
     "execution_count": 53,
     "metadata": {},
     "output_type": "execute_result"
    }
   ],
   "source": [
    "sys.path.append(\".\")\n",
    "sys.path"
   ]
  },
  {
   "cell_type": "code",
   "execution_count": 55,
   "metadata": {},
   "outputs": [
    {
     "ename": "ImportError",
     "evalue": "attempted relative import with no known parent package",
     "output_type": "error",
     "traceback": [
      "\u001b[1;31m---------------------------------------------------------------------------\u001b[0m",
      "\u001b[1;31mImportError\u001b[0m                               Traceback (most recent call last)",
      "\u001b[1;32m<ipython-input-55-8367e664cb18>\u001b[0m in \u001b[0;36m<module>\u001b[1;34m\u001b[0m\n\u001b[1;32m----> 1\u001b[1;33m \u001b[1;32mimport\u001b[0m \u001b[0mcut_model\u001b[0m\u001b[1;33m\u001b[0m\u001b[1;33m\u001b[0m\u001b[0m\n\u001b[0m",
      "\u001b[1;32me:\\桌面\\research\\5-Demoire\\CVPR23-Unsupervised-Demoiring\\CUT\\models\\cut_model.py\u001b[0m in \u001b[0;36m<module>\u001b[1;34m\u001b[0m\n\u001b[0;32m      3\u001b[0m \u001b[1;32mfrom\u001b[0m \u001b[0mmpe\u001b[0m\u001b[1;33m.\u001b[0m\u001b[0mmodels\u001b[0m\u001b[1;33m.\u001b[0m\u001b[0mmpe\u001b[0m \u001b[1;32mimport\u001b[0m \u001b[0mMoirePatternExtractor\u001b[0m\u001b[1;33m,\u001b[0m \u001b[0mMoirePatternPrior\u001b[0m\u001b[1;33m\u001b[0m\u001b[1;33m\u001b[0m\u001b[0m\n\u001b[0;32m      4\u001b[0m \u001b[1;32mimport\u001b[0m \u001b[0mtorch\u001b[0m\u001b[1;33m\u001b[0m\u001b[1;33m\u001b[0m\u001b[0m\n\u001b[1;32m----> 5\u001b[1;33m \u001b[1;32mfrom\u001b[0m \u001b[1;33m.\u001b[0m\u001b[0mbase_model\u001b[0m \u001b[1;32mimport\u001b[0m \u001b[0mBaseModel\u001b[0m\u001b[1;33m\u001b[0m\u001b[1;33m\u001b[0m\u001b[0m\n\u001b[0m\u001b[0;32m      6\u001b[0m \u001b[1;32mfrom\u001b[0m \u001b[1;33m.\u001b[0m \u001b[1;32mimport\u001b[0m \u001b[0mnetworks\u001b[0m\u001b[1;33m\u001b[0m\u001b[1;33m\u001b[0m\u001b[0m\n\u001b[0;32m      7\u001b[0m \u001b[1;32mfrom\u001b[0m \u001b[1;33m.\u001b[0m\u001b[0mpatchnce\u001b[0m \u001b[1;32mimport\u001b[0m \u001b[0mPatchNCELoss\u001b[0m\u001b[1;33m\u001b[0m\u001b[1;33m\u001b[0m\u001b[0m\n",
      "\u001b[1;31mImportError\u001b[0m: attempted relative import with no known parent package"
     ]
    }
   ],
   "source": [
    "import cut_model"
   ]
  },
  {
   "cell_type": "code",
   "execution_count": null,
   "metadata": {},
   "outputs": [],
   "source": []
  }
 ],
 "metadata": {
  "kernelspec": {
   "display_name": "Python 3.8.3 ('base')",
   "language": "python",
   "name": "python3"
  },
  "language_info": {
   "codemirror_mode": {
    "name": "ipython",
    "version": 3
   },
   "file_extension": ".py",
   "mimetype": "text/x-python",
   "name": "python",
   "nbconvert_exporter": "python",
   "pygments_lexer": "ipython3",
   "version": "3.8.3"
  },
  "toc": {
   "base_numbering": 1,
   "nav_menu": {},
   "number_sections": true,
   "sideBar": true,
   "skip_h1_title": false,
   "title_cell": "Table of Contents",
   "title_sidebar": "Contents",
   "toc_cell": false,
   "toc_position": {},
   "toc_section_display": true,
   "toc_window_display": false
  },
  "vscode": {
   "interpreter": {
    "hash": "7758e92e9a61d7a3490898707f7eeb937c85e9d1e8d4e877cc6c187218f226d5"
   }
  }
 },
 "nbformat": 4,
 "nbformat_minor": 4
}
